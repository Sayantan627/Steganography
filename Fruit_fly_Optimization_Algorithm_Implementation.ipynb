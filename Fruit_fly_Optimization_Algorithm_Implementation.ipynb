{
  "nbformat": 4,
  "nbformat_minor": 0,
  "metadata": {
    "colab": {
      "provenance": [],
      "authorship_tag": "ABX9TyNdhHzKbk3/iymBIxjKqTdq",
      "include_colab_link": true
    },
    "kernelspec": {
      "name": "python3",
      "display_name": "Python 3"
    },
    "language_info": {
      "name": "python"
    }
  },
  "cells": [
    {
      "cell_type": "markdown",
      "metadata": {
        "id": "view-in-github",
        "colab_type": "text"
      },
      "source": [
        "<a href=\"https://colab.research.google.com/github/Sayantan627/steganography/blob/main/Fruit_fly_Optimization_Algorithm_Implementation.ipynb\" target=\"_parent\"><img src=\"https://colab.research.google.com/assets/colab-badge.svg\" alt=\"Open In Colab\"/></a>"
      ]
    },
    {
      "cell_type": "code",
      "execution_count": null,
      "metadata": {
        "id": "G1jyRsibBKI3",
        "colab": {
          "base_uri": "https://localhost:8080/"
        },
        "outputId": "2172a2fe-4dbb-49a0-aed4-15466d48b29e"
      },
      "outputs": [
        {
          "output_type": "stream",
          "name": "stdout",
          "text": [
            "The best location for embedding secret data is at: [ 72 113]\n"
          ]
        }
      ],
      "source": [
        "import numpy as np\n",
        "import cv2\n",
        "\n",
        "lena_image = cv2.imread('lena-image.png', cv2.IMREAD_GRAYSCALE)\n",
        "\n",
        "max_iterations = 150\n",
        "population_size = 50\n",
        "R = 10\n",
        "\n",
        "def fitness_function(pixel_value):\n",
        "    return abs(pixel_value - 128)\n",
        "\n",
        "def initialize_fruit_flies(image_shape, population_size, R):\n",
        "    P = np.random.randint(0, image_shape[0])\n",
        "    Q = np.random.randint(0, image_shape[1])\n",
        "    fruit_flies = [(P + np.random.randint(-R, R), Q + np.random.randint(-R, R)) for _ in range(population_size)]\n",
        "    fruit_flies = np.clip(fruit_flies, [0, 0], [image_shape[0] - 1, image_shape[1] - 1])\n",
        "    return fruit_flies\n",
        "\n",
        "def evaluate_fitness(fruit_flies, image):\n",
        "    fitness_values = np.array([fitness_function(image[ff[0], ff[1]]) for ff in fruit_flies])\n",
        "    return fitness_values\n",
        "\n",
        "\n",
        "def find_best_position(fitness_values, fruit_flies):\n",
        "    sorted_indices = np.argsort(fitness_values)\n",
        "    best_index = sorted_indices[0]\n",
        "    best_position = fruit_flies[best_index]\n",
        "    return best_position, fitness_values[best_index]\n",
        "\n",
        "def fruit_fly_optimization(image, max_iterations, population_size, R):\n",
        "    fruit_flies = initialize_fruit_flies(image.shape, population_size, R)\n",
        "    fitness_values = evaluate_fitness(fruit_flies, image)\n",
        "    best_position, best_fitness = find_best_position(fitness_values, fruit_flies)\n",
        "\n",
        "    for _ in range(max_iterations):\n",
        "        new_positions = [(best_position[0] + np.random.randint(-1, 2), best_position[1] + np.random.randint(-1, 2))\n",
        "                         for _ in range(population_size)]\n",
        "        new_positions = np.clip(new_positions, [0, 0], [image.shape[0] - 1, image.shape[1] - 1])\n",
        "        new_fitness_values = evaluate_fitness(new_positions, image)\n",
        "        new_best_position, new_best_fitness = find_best_position(new_fitness_values, new_positions)\n",
        "\n",
        "        if new_best_fitness < best_fitness:\n",
        "            best_position = new_best_position\n",
        "            best_fitness = new_best_fitness\n",
        "\n",
        "    return best_position\n",
        "\n",
        "\n",
        "best_location = fruit_fly_optimization(lena_image, max_iterations, population_size, R)\n",
        "print(f\"The best location for embedding secret data is at: {best_location}\")\n"
      ]
    }
  ]
}